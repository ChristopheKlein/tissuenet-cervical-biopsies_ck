{
 "cells": [
  {
   "cell_type": "code",
   "execution_count": null,
   "metadata": {},
   "outputs": [],
   "source": [
    "import os\n",
    "import time\n",
    "import joblib\n",
    "import numpy as np\n",
    "import pandas as pd\n",
    "\n",
    "from tqdm import tqdm\n",
    "from fastai.vision.all import *\n",
    "from utils.tissue_mask import get_tissue_mask\n",
    "from utils.heatmap import crop_img, get_heatmap\n",
    "from utils.extract_feature_probsmap import get_probsmap_feature"
   ]
  },
  {
   "cell_type": "markdown",
   "metadata": {},
   "source": [
    "# Need Config"
   ]
  },
  {
   "cell_type": "code",
   "execution_count": null,
   "metadata": {},
   "outputs": [],
   "source": [
    "read_level = 2\n",
    "down_sample = 256\n",
    "crop_size = 320\n",
    "img_size = 320\n",
    "up_level = 3\n",
    "infer_bs_size = 32\n",
    "model = densenet201\n",
    "model_path = './models/patch_model'\n",
    "ml_model_path = './models/wsi_model.m'\n",
    "\n",
    "submit_format_path = '/home/fm/tissuenet/submission/data/submission_format.csv'\n",
    "test_metadata_csv = '/home/fm/tissuenet/submission/data/test_metadata.csv'\n",
    "test_tif_base_path = '/home/fm/tissuenet/data/train/tif/'"
   ]
  },
  {
   "cell_type": "code",
   "execution_count": null,
   "metadata": {},
   "outputs": [],
   "source": [
    "def pred_wsi(probs_map, ml_model_path):\n",
    "    ml_model = joblib.load(ml_model_path)\n",
    "    x = get_probsmap_feature(probs_map, mode='Test')\n",
    "    x = np.array(x).reshape(1, -1)\n",
    "    pred = ml_model.predict(x)\n",
    "    return pred[0]\n",
    "\n",
    "\n",
    "def process_one_tif(wsi_path, down_sample, read_level, model_path, \n",
    "                    ml_model_path, up_level, crop_size, model, img_size, infer_bs_size):\n",
    "    tissue_mask = get_tissue_mask(wsi_path, read_level, down_sample, up_level)\n",
    "    x_start_list, y_start_list, region_df = crop_img(tissue_mask, wsi_path, read_level, down_sample, crop_size)\n",
    "    probs_map = get_heatmap(wsi_path, tissue_mask, x_start_list, y_start_list, region_df, model_path, model, img_size, infer_bs_size)\n",
    "    temp_pmp = np.concatenate([np.array(tissue_mask)[np.newaxis, :, :], probs_map], axis=0)\n",
    "    label = pred_wsi(temp_pmp, ml_model_path)\n",
    "    return label"
   ]
  },
  {
   "cell_type": "code",
   "execution_count": null,
   "metadata": {},
   "outputs": [],
   "source": [
    "submission_format = pd.read_csv(submit_format_path, index_col=0)\n",
    "input_metadata = pd.read_csv(test_metadata_csv, index_col=0)\n",
    "processed_number = 0\n",
    "\n",
    "for filename, _ in tqdm(input_metadata.iterrows(), total=len(input_metadata)):\n",
    "    wsi_path_temp = os.path.join(test_tif_base_path, filename)\n",
    "    pred = process_one_tif(wsi_path_temp, down_sample, read_level, model_path, ml_model_path, \n",
    "                           up_level, crop_size, \n",
    "                           model, img_size, infer_bs_size)\n",
    "    submission_format.loc[filename, str(pred)] = 1\n",
    "    processed_number += 1\n",
    "\n",
    "    submission_format.to_csv(\"./submission.csv\")"
   ]
  },
  {
   "cell_type": "code",
   "execution_count": null,
   "metadata": {},
   "outputs": [],
   "source": []
  }
 ],
 "metadata": {
  "kernelspec": {
   "display_name": "Python 3",
   "language": "python",
   "name": "python3"
  },
  "language_info": {
   "codemirror_mode": {
    "name": "ipython",
    "version": 3
   },
   "file_extension": ".py",
   "mimetype": "text/x-python",
   "name": "python",
   "nbconvert_exporter": "python",
   "pygments_lexer": "ipython3",
   "version": "3.8.3"
  }
 },
 "nbformat": 4,
 "nbformat_minor": 4
}
